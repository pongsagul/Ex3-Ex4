{
 "cells": [
  {
   "cell_type": "code",
   "execution_count": 1,
   "metadata": {},
   "outputs": [
    {
     "name": "stdout",
     "output_type": "stream",
     "text": [
      "a\t\t\tmysqrt(a)\t\t\tmath.sqrt(a)\n",
      "-\t\t\t-------------\t\t\t----------------\n",
      "1.0\t\t\t1.0\t\t1.0\n",
      "2.0\t\t\t1.414213562373095\t\t1.4142135623730951\n",
      "3.0\t\t\t1.7320508075688772\t\t1.7320508075688772\n",
      "4.0\t\t\t2.0\t\t2.0\n",
      "5.0\t\t\t2.23606797749979\t\t2.23606797749979\n",
      "6.0\t\t\t2.449489742783178\t\t2.449489742783178\n",
      "7.0\t\t\t2.6457513110645907\t\t2.6457513110645907\n",
      "8.0\t\t\t2.82842712474619\t\t2.8284271247461903\n",
      "9.0\t\t\t3\t\t3.0\n"
     ]
    }
   ],
   "source": [
    "import math\n",
    "\n",
    "\n",
    "def mysqrt(x,a): \n",
    "    while True:\n",
    "        y = (x + a / x) / 2\n",
    "        if y == x:\n",
    "            break\n",
    "        x = y\n",
    "    return x\n",
    "print(\"a\\t\\t\\tmysqrt(a)\\t\\t\\tmath.sqrt(a)\")\n",
    "print(\"-\\t\\t\\t-------------\\t\\t\\t----------------\")\n",
    "for i in range(9):\n",
    "    n = i + 1\n",
    "    print(\"{}\\t\\t\\t{}\\t\\t{}\".format(float(n),mysqrt(3,n),math.sqrt(n)))"
   ]
  },
  {
   "cell_type": "code",
   "execution_count": null,
   "metadata": {},
   "outputs": [],
   "source": []
  }
 ],
 "metadata": {
  "kernelspec": {
   "display_name": "Python 3",
   "language": "python",
   "name": "python3"
  },
  "language_info": {
   "codemirror_mode": {
    "name": "ipython",
    "version": 3
   },
   "file_extension": ".py",
   "mimetype": "text/x-python",
   "name": "python",
   "nbconvert_exporter": "python",
   "pygments_lexer": "ipython3",
   "version": "3.8.3"
  }
 },
 "nbformat": 4,
 "nbformat_minor": 4
}
