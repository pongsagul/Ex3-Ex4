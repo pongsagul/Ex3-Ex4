{
 "cells": [
  {
   "cell_type": "code",
   "execution_count": 4,
   "metadata": {},
   "outputs": [
    {
     "name": "stdout",
     "output_type": "stream",
     "text": [
      "Weclome \n",
      "     To \n",
      " HANGMAN\n",
      "----\n",
      "Input the letter: > j\n",
      "j---\n",
      "Input the letter: > a\n",
      "ja-a\n",
      "Input the letter: > v\n",
      "java\n",
      "You guessed the word!\n",
      "!!! You win Good job !!!\n"
     ]
    }
   ],
   "source": [
    "import random\n",
    "wordsHang = ['python', 'java', 'kotlin', 'javascript']\n",
    "rd = random.randint(0, len(wordsHang)-1)\n",
    "word = wordsHang[rd]\n",
    "l = len(word)\n",
    "print(\"Weclome \\n     To \\n HANGMAN\")\n",
    "print('-'*l)\n",
    "win = False\n",
    "times = 0\n",
    "expect = []\n",
    "wordcheck = ['-' for i in range(l)]\n",
    "while not win and times<6 :\n",
    "    x = input(\"Input the letter: > \")\n",
    "    if x in word:\n",
    "        if x not in expect:\n",
    "            expect.append(x)\n",
    "            for i in range(l):\n",
    "                if word[i] == x:\n",
    "                    wordcheck[i] = x\n",
    "            for i in wordcheck:\n",
    "                print(i, end='')\n",
    "            print()\n",
    "            if wordcheck.count('-') == 0:\n",
    "                win = True\n",
    "                print(\"You guessed the word!\")\n",
    "                print(\"!!! You win Good job !!!\")\n",
    "        else:\n",
    "            times += 1\n",
    "            print(\"!!! You Serious !!! \")\n",
    "    elif x not in word:\n",
    "        times += 1\n",
    "        print(\"No such letter in the word\")\n",
    "if not win:\n",
    "    print(\"< HAHA. You are hanged T_T > \")"
   ]
  },
  {
   "cell_type": "code",
   "execution_count": null,
   "metadata": {},
   "outputs": [],
   "source": []
  }
 ],
 "metadata": {
  "kernelspec": {
   "display_name": "Python 3",
   "language": "python",
   "name": "python3"
  },
  "language_info": {
   "codemirror_mode": {
    "name": "ipython",
    "version": 3
   },
   "file_extension": ".py",
   "mimetype": "text/x-python",
   "name": "python",
   "nbconvert_exporter": "python",
   "pygments_lexer": "ipython3",
   "version": "3.7.6"
  }
 },
 "nbformat": 4,
 "nbformat_minor": 4
}
